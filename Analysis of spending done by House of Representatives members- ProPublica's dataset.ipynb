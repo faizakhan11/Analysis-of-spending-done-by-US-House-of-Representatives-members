{
 "cells": [
  {
   "cell_type": "code",
   "execution_count": 1,
   "metadata": {},
   "outputs": [],
   "source": [
    "import numpy as np\n",
    "import pandas as pd\n",
    "from datetime import datetime\n",
    "import warnings; warnings.simplefilter('ignore')"
   ]
  },
  {
   "cell_type": "code",
   "execution_count": 2,
   "metadata": {},
   "outputs": [],
   "source": [
    "columns = ['BIOGUIDE_ID', 'OFFICE', 'CATEGORY', 'PAYEE', 'START DATE', 'END DATE', 'PURPOSE', 'AMOUNT', 'YEAR']"
   ]
  },
  {
   "cell_type": "code",
   "execution_count": 3,
   "metadata": {},
   "outputs": [],
   "source": [
    "#Loading data\n",
    "\n",
    "#2009\n",
    "Q3_2009 = pd.read_csv('2009Q4-house-disburse-detail.csv')\n",
    "Q3_2009_data = Q3_2009[columns]\n",
    "\n",
    "Q4_2009 = pd.read_csv('2009Q4-house-disburse-detail.csv')\n",
    "Q4_2009_data = Q4_2009[columns]\n",
    "\n",
    "#2010\n",
    "Q1_2010 = pd.read_csv('2010Q1-house-disburse-detail.csv')\n",
    "Q1_2010_data = Q1_2010[columns]\n",
    "\n",
    "Q2_2010 = pd.read_csv('2010Q2-house-disburse-detail.csv')\n",
    "Q2_2010_data = Q2_2010[columns]\n",
    "\n",
    "Q3_2010 = pd.read_csv('2010Q3-house-disburse-detail.csv')\n",
    "Q3_2010_data = Q3_2010[columns]\n",
    "\n",
    "Q4_2010 = pd.read_csv('2010Q4-house-disburse-detail.csv')\n",
    "Q4_2010_data = Q4_2010[columns]\n",
    "\n",
    "#2011\n",
    "Q1_2011 = pd.read_csv('2011Q1-house-disburse-detail.csv')\n",
    "Q1_2011_data = Q1_2011[columns] \n",
    "\n",
    "Q2_2011 = pd.read_csv('2011Q2-house-disburse-detail.csv')\n",
    "Q2_2011_data = Q2_2011[columns]\n",
    "\n",
    "Q3_2011 = pd.read_csv('2011Q3-house-disburse-detail.csv')\n",
    "Q3_2011_data = Q3_2011[columns]\n",
    "\n",
    "Q4_2011 = pd.read_csv('2011Q4-house-disburse-detail.csv')\n",
    "Q4_2011_data = Q4_2011[columns]\n",
    "\n",
    "#2012\n",
    "Q1_2012 = pd.read_csv('2012Q1-house-disburse-detail.csv')\n",
    "Q1_2012_data = Q1_2012[columns]\n",
    "\n",
    "Q2_2012 = pd.read_csv('2012Q2-house-disburse-detail.csv')\n",
    "Q2_2012_data = Q2_2012[columns]\n",
    "\n",
    "Q3_2012 = pd.read_csv('2012Q3-house-disburse-detail.csv')\n",
    "Q3_2012_data = Q3_2012[columns]\n",
    "\n",
    "Q4_2012 = pd.read_csv('2012Q4-house-disburse-detail.csv')\n",
    "Q4_2012_data = Q4_2012[columns]\n",
    "\n",
    "#2013\n",
    "Q1_2013 = pd.read_csv('2013Q1-house-disburse-detail.csv')\n",
    "Q1_2013_data = Q1_2013[columns] \n",
    "\n",
    "Q2_2013 = pd.read_csv('2013Q2-house-disburse-detail.csv')\n",
    "Q2_2013_data = Q2_2013[columns]\n",
    "\n",
    "Q3_2013 = pd.read_csv('2013Q3-house-disburse-detail.csv')\n",
    "Q3_2013_data = Q3_2013[columns]\n",
    "\n",
    "Q4_2013 = pd.read_csv('2013Q4-house-disburse-detail.csv')\n",
    "Q4_2013_data = Q4_2013[columns]\n",
    "\n",
    "#2014\n",
    "Q1_2014 = pd.read_csv('2014Q1-house-disburse-detail.csv')\n",
    "Q1_2014_data = Q1_2014[columns]\n",
    "\n",
    "Q2_2014 = pd.read_csv('2014Q2-house-disburse-detail.csv')\n",
    "Q2_2014_data = Q2_2014[columns]\n",
    "                      \n",
    "Q3_2014 = pd.read_csv('2014Q3-house-disburse-detail.csv')  \n",
    "Q3_2014_data = Q3_2014[columns]\n",
    "                    \n",
    "Q4_2014 = pd.read_csv('2014Q4-house-disburse-detail.csv')\n",
    "Q4_2014_data = Q4_2014[columns] \n",
    "\n",
    "#2015\n",
    "Q1_2015 = pd.read_csv('2015Q1-house-disburse-detail.csv')\n",
    "Q1_2015_data = Q1_2015[columns]   \n",
    "                      \n",
    "Q2_2015 = pd.read_csv('2015Q2-house-disburse-detail-updated.csv') \n",
    "Q2_2015_data = Q2_2015[columns]   \n",
    "                     \n",
    "Q3_2015 = pd.read_csv('2015Q3-house-disburse-detail.csv')\n",
    "Q3_2015_data = Q3_2015[columns]\n",
    "\n",
    "Q4_2015 = pd.read_csv('2015Q4-house-disburse-detail.csv')\n",
    "Q4_2015_data = Q4_2015[columns] \n",
    "\n",
    "#2016\n",
    "Q1_2016 = pd.read_csv('2016Q1-house-disburse-detail.csv') \n",
    "Q1_2016_data = Q1_2016[columns]  \n",
    "                      \n",
    "Q2_2016 = pd.read_csv('2016Q2-house-disburse-detail.csv') \n",
    "Q2_2016_data = Q2_2016[columns]    \n",
    "\n",
    "Q3_2016 = pd.read_csv('2016Q3-house-disburse-detail.csv') \n",
    "Q3_2016_data = Q3_2016[columns]   \n",
    "\n",
    "Q4_2016 = pd.read_csv('2016Q4-house-disburse-detail.csv')\n",
    "Q4_2016_data = Q4_2016[columns] \n",
    "\n",
    "#2017 and Q1-2018\n",
    "Q1_2017 = pd.read_csv('2017Q1-house-disburse-detail.csv')  \n",
    "Q1_2017_data = Q1_2017[columns]   \n",
    "                      \n",
    "Q2_2017 = pd.read_csv('2017Q2-house-disburse-detail.csv', encoding = 'ISO-8859-1')\n",
    "Q2_2017['YEAR'] = Q2_2017['AMOUNT']\n",
    "Q2_2017['AMOUNT'] = Q2_2017['PURPOSE']\n",
    "Q2_2017['PURPOSE'] = Q2_2017['END DATE']\n",
    "Q2_2017['END DATE'] = Q2_2017['START DATE']\n",
    "Q2_2017['START DATE'] = Q2_2017['PAYEE']\n",
    "Q2_2017['PAYEE'] = Q2_2017['RECORDID']  \n",
    "Q2_2017_data = Q2_2017[columns]    \n",
    "                      \n",
    "Q3_2017 = pd.read_csv('2017Q3-house-disburse-detail.csv')                        \n",
    "Q3_2017_data = Q3_2017[columns]   \n",
    "                      \n",
    "Q4_2017 = pd.read_csv('2017Q4-house-disburse-detail.csv')\n",
    "Q4_2017_data = Q4_2017[columns]    \n",
    "                      \n",
    "Q1_2018 = pd.read_csv('2018Q1-house-disburse-detail.csv', encoding = 'ISO-8859-1') \n",
    "Q1_2018_data = Q1_2018[columns]"
   ]
  },
  {
   "cell_type": "code",
   "execution_count": 4,
   "metadata": {},
   "outputs": [],
   "source": [
    "data_till_2017 = [Q3_2009_data, Q4_2009_data, Q1_2010_data, Q2_2010_data, Q3_2010_data, Q4_2010_data, Q1_2011_data, Q2_2011_data, \n",
    "        Q3_2011_data, Q4_2011_data, Q1_2012_data, Q2_2012_data, Q3_2012_data, Q4_2012_data, Q1_2013_data, Q2_2013_data,\n",
    "        Q3_2013_data, Q4_2013_data, Q1_2014_data, Q2_2014_data, Q3_2014_data, Q4_2014_data, Q1_2015_data, Q2_2015_data,\n",
    "        Q3_2015_data, Q4_2015_data, Q1_2016_data, Q2_2016_data, Q3_2016_data, Q4_2016_data]"
   ]
  },
  {
   "cell_type": "code",
   "execution_count": 5,
   "metadata": {},
   "outputs": [],
   "source": [
    "#Defining function to correct dates up to 2017 data\n",
    "def correct_date(mystr):\n",
    "    mystr_update = str(mystr)\n",
    "    result = mystr_update.split('/')\n",
    "    if len(result) > 1:\n",
    "        month = result[0]\n",
    "        if month not in ['01', '02', '03', '04', '05', '06', '07', '08', '09', '10', '11','12']:\n",
    "            month = '0' + result[0]\n",
    "        day = result[1]\n",
    "        if day not in ['01', '02', '03', '04', '05', '06', '07', '08', '09', '10', '11','12', '13','14','15','16','17',\n",
    "                      '18', '19', '20', '21', '22', '23', '24', '25', '26','27','28', '29','30','31']:\n",
    "            day = '0' + result[1]\n",
    "        final_str = month+'/'+day+'/'+result[2]\n",
    "        datetime_str = datetime.strptime(final_str, '%m/%d/%y')\n",
    "        return datetime_str.date()"
   ]
  },
  {
   "cell_type": "code",
   "execution_count": 6,
   "metadata": {},
   "outputs": [],
   "source": [
    "def amount(mystr): #remove commas in amounts\n",
    "    if type(mystr) == float:\n",
    "        return mystr\n",
    "    elif type(mystr) == int:\n",
    "        return mystr\n",
    "    else:\n",
    "        result = ''\n",
    "        updated_str = mystr.split(',')\n",
    "        for char in updated_str:\n",
    "            result = result + char\n",
    "        return float(result)"
   ]
  },
  {
   "cell_type": "code",
   "execution_count": 7,
   "metadata": {},
   "outputs": [],
   "source": [
    "#Fixing start and end dates and data type for amount for data till 2017 \n",
    "for table in data_till_2017:\n",
    "    table['START DATE'] = table['START DATE'].apply(correct_date)\n",
    "    table['END DATE'] = table['END DATE'].apply(correct_date)\n",
    "    table['AMOUNT'] = table['AMOUNT'].apply(amount)\n",
    "    table['Coverage Period'] = table['END DATE'] - table['START DATE']"
   ]
  },
  {
   "cell_type": "code",
   "execution_count": 8,
   "metadata": {},
   "outputs": [],
   "source": [
    "#Defining functions for 2017 & 2018 data: fix different year formats in the START AND END DATES\n",
    "def convert_2017(mystr):\n",
    "    mystr_update = str(mystr)\n",
    "    result = mystr_update.split('/')\n",
    "    if len(result) > 1:\n",
    "        datetime_str = datetime.strptime(mystr, '%m/%d/%Y')\n",
    "        return datetime_str.date()\n",
    "    \n",
    "def convert_17(mystr):\n",
    "    mystr_update = str(mystr)\n",
    "    result = mystr_update.split('/')\n",
    "    if len(result) > 1:\n",
    "        datetime_str = datetime.strptime(mystr, '%m/%d/%y')\n",
    "        return datetime_str.date()"
   ]
  },
  {
   "cell_type": "code",
   "execution_count": 9,
   "metadata": {},
   "outputs": [],
   "source": [
    "#Updating start and end times for Year 2017 and Q1-2018\n",
    "Q1_2017_data['START DATE'] = Q1_2017_data['START DATE'].apply(convert_2017)\n",
    "Q1_2017_data['END DATE'] = Q1_2017_data['END DATE'].apply(convert_2017)\n",
    "Q1_2017_data['Coverage Period'] = Q1_2017_data['END DATE'] - Q1_2017_data['START DATE']\n",
    "\n",
    "Q2_2017_data['START DATE'] = Q2_2017_data['START DATE'].apply(convert_17)\n",
    "Q2_2017_data['END DATE'] = Q2_2017_data['END DATE'].apply(convert_17)\n",
    "Q2_2017_data['Coverage Period'] = Q2_2017_data['END DATE'] - Q2_2017_data['START DATE']\n",
    "\n",
    "Q3_2017_data['START DATE'] = Q3_2017_data['START DATE'].apply(convert_2017)\n",
    "Q3_2017_data['END DATE'] = Q3_2017_data['END DATE'].apply(convert_2017)\n",
    "Q3_2017_data['Coverage Period'] = Q3_2017_data['END DATE'] - Q3_2017_data['START DATE']\n",
    "\n",
    "Q4_2017_data['START DATE'] = Q4_2017_data['START DATE'].apply(convert_2017)\n",
    "Q4_2017_data['END DATE'] = Q4_2017_data['END DATE'].apply(convert_2017)\n",
    "Q4_2017_data['Coverage Period'] = Q4_2017_data['END DATE'] - Q4_2017_data['START DATE']\n",
    "\n",
    "Q1_2018_data['START DATE'] = Q1_2018_data['START DATE'].apply(convert_17)\n",
    "Q1_2018_data['END DATE'] = Q1_2018_data['END DATE'].apply(convert_17)\n",
    "Q1_2018_data['Coverage Period'] = Q1_2018_data['END DATE'] - Q1_2018_data['START DATE']"
   ]
  },
  {
   "cell_type": "code",
   "execution_count": 10,
   "metadata": {},
   "outputs": [],
   "source": [
    "#Combining all data \n",
    "data =[Q3_2009_data, Q4_2009_data, Q1_2010_data, Q2_2010_data, Q3_2010_data, Q4_2010_data, Q1_2011_data, Q2_2011_data, \n",
    "        Q3_2011_data, Q4_2011_data, Q1_2012_data, Q2_2012_data, Q3_2012_data, Q4_2012_data, Q1_2013_data, Q2_2013_data,\n",
    "        Q3_2013_data, Q4_2013_data, Q1_2014_data, Q2_2014_data, Q3_2014_data, Q4_2014_data, Q1_2015_data, Q2_2015_data,\n",
    "        Q3_2015_data, Q4_2015_data, Q1_2016_data, Q2_2016_data, Q3_2016_data, Q4_2016_data, Q1_2017_data, Q2_2017_data,\n",
    "        Q3_2017_data, Q4_2017_data, Q1_2018_data]"
   ]
  },
  {
   "cell_type": "code",
   "execution_count": 11,
   "metadata": {},
   "outputs": [],
   "source": [
    "df = pd.concat(data)"
   ]
  },
  {
   "cell_type": "code",
   "execution_count": 12,
   "metadata": {},
   "outputs": [
    {
     "data": {
      "text/html": [
       "<div>\n",
       "<style scoped>\n",
       "    .dataframe tbody tr th:only-of-type {\n",
       "        vertical-align: middle;\n",
       "    }\n",
       "\n",
       "    .dataframe tbody tr th {\n",
       "        vertical-align: top;\n",
       "    }\n",
       "\n",
       "    .dataframe thead th {\n",
       "        text-align: right;\n",
       "    }\n",
       "</style>\n",
       "<table border=\"1\" class=\"dataframe\">\n",
       "  <thead>\n",
       "    <tr style=\"text-align: right;\">\n",
       "      <th></th>\n",
       "      <th>BIOGUIDE_ID</th>\n",
       "      <th>OFFICE</th>\n",
       "      <th>CATEGORY</th>\n",
       "      <th>PAYEE</th>\n",
       "      <th>START DATE</th>\n",
       "      <th>END DATE</th>\n",
       "      <th>PURPOSE</th>\n",
       "      <th>AMOUNT</th>\n",
       "      <th>YEAR</th>\n",
       "      <th>Coverage Period</th>\n",
       "    </tr>\n",
       "  </thead>\n",
       "  <tbody>\n",
       "    <tr>\n",
       "      <th>0</th>\n",
       "      <td>S000250</td>\n",
       "      <td>HON. PETE SESSIONS</td>\n",
       "      <td>EQUIPMENT</td>\n",
       "      <td>10_01      P1    10TX3200002                DE...</td>\n",
       "      <td>2009-01-01</td>\n",
       "      <td>2009-03-01</td>\n",
       "      <td>EQUIPMENT MAINTENANCE</td>\n",
       "      <td>4395.0</td>\n",
       "      <td>2009</td>\n",
       "      <td>59 days</td>\n",
       "    </tr>\n",
       "    <tr>\n",
       "      <th>1</th>\n",
       "      <td>S000250</td>\n",
       "      <td>HON. PETE SESSIONS</td>\n",
       "      <td>EQUIPMENT</td>\n",
       "      <td>10_01      P1    10TX3200003                  ...</td>\n",
       "      <td>2009-04-01</td>\n",
       "      <td>2009-07-01</td>\n",
       "      <td>EQUIPMENT MAINTENANCE</td>\n",
       "      <td>5860.0</td>\n",
       "      <td>2009</td>\n",
       "      <td>91 days</td>\n",
       "    </tr>\n",
       "  </tbody>\n",
       "</table>\n",
       "</div>"
      ],
      "text/plain": [
       "  BIOGUIDE_ID              OFFICE   CATEGORY  \\\n",
       "0     S000250  HON. PETE SESSIONS  EQUIPMENT   \n",
       "1     S000250  HON. PETE SESSIONS  EQUIPMENT   \n",
       "\n",
       "                                               PAYEE  START DATE    END DATE  \\\n",
       "0  10_01      P1    10TX3200002                DE...  2009-01-01  2009-03-01   \n",
       "1  10_01      P1    10TX3200003                  ...  2009-04-01  2009-07-01   \n",
       "\n",
       "                 PURPOSE  AMOUNT  YEAR Coverage Period  \n",
       "0  EQUIPMENT MAINTENANCE  4395.0  2009         59 days  \n",
       "1  EQUIPMENT MAINTENANCE  5860.0  2009         91 days  "
      ]
     },
     "execution_count": 12,
     "metadata": {},
     "output_type": "execute_result"
    }
   ],
   "source": [
    "df.head(2)"
   ]
  },
  {
   "cell_type": "markdown",
   "metadata": {},
   "source": [
    "# Analysis"
   ]
  },
  {
   "cell_type": "code",
   "execution_count": null,
   "metadata": {},
   "outputs": [],
   "source": [
    "# Average duration of projects which the payments covered: 30 days"
   ]
  },
  {
   "cell_type": "code",
   "execution_count": 13,
   "metadata": {},
   "outputs": [],
   "source": [
    "df_positive_amounts = df[df['AMOUNT'] > 0]"
   ]
  },
  {
   "cell_type": "code",
   "execution_count": 14,
   "metadata": {},
   "outputs": [
    {
     "data": {
      "text/html": [
       "<div>\n",
       "<style scoped>\n",
       "    .dataframe tbody tr th:only-of-type {\n",
       "        vertical-align: middle;\n",
       "    }\n",
       "\n",
       "    .dataframe tbody tr th {\n",
       "        vertical-align: top;\n",
       "    }\n",
       "\n",
       "    .dataframe thead th {\n",
       "        text-align: right;\n",
       "    }\n",
       "</style>\n",
       "<table border=\"1\" class=\"dataframe\">\n",
       "  <thead>\n",
       "    <tr style=\"text-align: right;\">\n",
       "      <th></th>\n",
       "      <th>AMOUNT</th>\n",
       "      <th>Coverage Period</th>\n",
       "    </tr>\n",
       "  </thead>\n",
       "  <tbody>\n",
       "    <tr>\n",
       "      <th>count</th>\n",
       "      <td>3.440169e+06</td>\n",
       "      <td>3414477</td>\n",
       "    </tr>\n",
       "    <tr>\n",
       "      <th>mean</th>\n",
       "      <td>4.050470e+03</td>\n",
       "      <td>30 days 19:03:51.642503</td>\n",
       "    </tr>\n",
       "    <tr>\n",
       "      <th>std</th>\n",
       "      <td>1.266102e+05</td>\n",
       "      <td>61 days 14:41:33.409784</td>\n",
       "    </tr>\n",
       "    <tr>\n",
       "      <th>min</th>\n",
       "      <td>1.000000e-02</td>\n",
       "      <td>-18217 days +00:00:00</td>\n",
       "    </tr>\n",
       "    <tr>\n",
       "      <th>25%</th>\n",
       "      <td>5.300000e+01</td>\n",
       "      <td>0 days 00:00:00</td>\n",
       "    </tr>\n",
       "    <tr>\n",
       "      <th>50%</th>\n",
       "      <td>2.157000e+02</td>\n",
       "      <td>29 days 00:00:00</td>\n",
       "    </tr>\n",
       "    <tr>\n",
       "      <th>75%</th>\n",
       "      <td>8.330000e+02</td>\n",
       "      <td>30 days 00:00:00</td>\n",
       "    </tr>\n",
       "    <tr>\n",
       "      <th>max</th>\n",
       "      <td>6.252565e+07</td>\n",
       "      <td>10986 days 00:00:00</td>\n",
       "    </tr>\n",
       "  </tbody>\n",
       "</table>\n",
       "</div>"
      ],
      "text/plain": [
       "             AMOUNT          Coverage Period\n",
       "count  3.440169e+06                  3414477\n",
       "mean   4.050470e+03  30 days 19:03:51.642503\n",
       "std    1.266102e+05  61 days 14:41:33.409784\n",
       "min    1.000000e-02    -18217 days +00:00:00\n",
       "25%    5.300000e+01          0 days 00:00:00\n",
       "50%    2.157000e+02         29 days 00:00:00\n",
       "75%    8.330000e+02         30 days 00:00:00\n",
       "max    6.252565e+07      10986 days 00:00:00"
      ]
     },
     "execution_count": 14,
     "metadata": {},
     "output_type": "execute_result"
    }
   ],
   "source": [
    "df_positive_amounts.describe()"
   ]
  },
  {
   "cell_type": "code",
   "execution_count": null,
   "metadata": {},
   "outputs": [],
   "source": [
    "#Average annual expenditure between Jan 1, 2010 and Dec 31, 2016"
   ]
  },
  {
   "cell_type": "code",
   "execution_count": 15,
   "metadata": {},
   "outputs": [],
   "source": [
    "start_time = datetime.strptime('01/01/10', '%m/%d/%y').date()\n",
    "end_time = datetime.strptime('12/31/16', '%m/%d/%y').date()"
   ]
  },
  {
   "cell_type": "code",
   "execution_count": 16,
   "metadata": {},
   "outputs": [],
   "source": [
    "df_expend = df_positive_amounts[(df_positive_amounts['START DATE'] >= start_time) & (df_positive_amounts['START DATE'] <= end_time)]"
   ]
  },
  {
   "cell_type": "code",
   "execution_count": 17,
   "metadata": {},
   "outputs": [],
   "source": [
    "years = 7.0\n",
    "average_annual_expenditure = df_expend['AMOUNT'].sum()/years"
   ]
  },
  {
   "cell_type": "code",
   "execution_count": 18,
   "metadata": {},
   "outputs": [
    {
     "data": {
      "text/plain": [
       "1223373736.1557143"
      ]
     },
     "execution_count": 18,
     "metadata": {},
     "output_type": "execute_result"
    }
   ],
   "source": [
    "average_annual_expenditure"
   ]
  },
  {
   "cell_type": "code",
   "execution_count": null,
   "metadata": {},
   "outputs": [],
   "source": [
    "#Finding office with the highest total expenditure in 2016"
   ]
  },
  {
   "cell_type": "code",
   "execution_count": 19,
   "metadata": {},
   "outputs": [
    {
     "data": {
      "text/plain": [
       "OFFICE    GOVERNMENT CONTRIBUTIONS\n",
       "AMOUNT                 2.47826e+08\n",
       "Name: 37, dtype: object"
      ]
     },
     "execution_count": 19,
     "metadata": {},
     "output_type": "execute_result"
    }
   ],
   "source": [
    "#Constructing dataset for 2016\n",
    "df_2016 = pd.concat([Q1_2016_data, Q2_2016_data, Q3_2016_data, Q4_2016_data])\n",
    "office_columns = df_2016[['OFFICE', 'AMOUNT']]\n",
    "groupby_office = office_columns.groupby('OFFICE').sum()\n",
    "groupby_office.reset_index(inplace = True)\n",
    "groupby_office.sort_values('AMOUNT', ascending = False).iloc[0]"
   ]
  },
  {
   "cell_type": "code",
   "execution_count": null,
   "metadata": {},
   "outputs": [],
   "source": [
    "#Biggest beneficiary of GOVERNMENT CONTRIBUTIONS"
   ]
  },
  {
   "cell_type": "code",
   "execution_count": 20,
   "metadata": {},
   "outputs": [
    {
     "data": {
      "text/plain": [
       "PURPOSE           FERS\n",
       "AMOUNT     8.30479e+07\n",
       "Name: 7, dtype: object"
      ]
     },
     "execution_count": 20,
     "metadata": {},
     "output_type": "execute_result"
    }
   ],
   "source": [
    "df_govt = df_2016[df_2016['OFFICE'] == 'GOVERNMENT CONTRIBUTIONS']\n",
    "govt_columns = df_govt[['PURPOSE', 'AMOUNT']]\n",
    "groupby_purpose = govt_columns.groupby('PURPOSE').sum()\n",
    "groupby_purpose.reset_index(inplace = True)\n",
    "groupby_purpose.sort_values('AMOUNT', ascending = False).iloc[0]"
   ]
  },
  {
   "cell_type": "code",
   "execution_count": null,
   "metadata": {},
   "outputs": [],
   "source": [
    "#Fraction of total expenditures in 2016 contributing to GOVERNMENT CONTRIBUTIONS"
   ]
  },
  {
   "cell_type": "code",
   "execution_count": 21,
   "metadata": {},
   "outputs": [],
   "source": [
    "start_time = datetime.strptime('01/01/16', '%m/%d/%y').date()\n",
    "end_time = datetime.strptime('12/31/16', '%m/%d/%y').date()\n",
    "expenditures_2016 = df[(df['START DATE'] >= start_time) & (df['START DATE'] <= end_time)]\n",
    "total_expenditures_with_start_date_2016 = expenditures_2016['AMOUNT'].sum()\n",
    "fraction = 2.47826e+08/total_expenditures_with_start_date_2016"
   ]
  },
  {
   "cell_type": "code",
   "execution_count": 22,
   "metadata": {},
   "outputs": [
    {
     "data": {
      "text/plain": [
       "0.20832202264336636"
      ]
     },
     "execution_count": 22,
     "metadata": {},
     "output_type": "execute_result"
    }
   ],
   "source": [
    "fraction"
   ]
  },
  {
   "cell_type": "code",
   "execution_count": null,
   "metadata": {},
   "outputs": [],
   "source": [
    "#Highest average staff salary among all representatives in 2016"
   ]
  },
  {
   "cell_type": "code",
   "execution_count": 23,
   "metadata": {},
   "outputs": [],
   "source": [
    "#Staff salaries fall under 'PERSONNEL COMPENSATION' category\n",
    "pc_category = df_2016[df_2016['CATEGORY'] == 'PERSONNEL COMPENSATION']\n",
    "cols = pc_category[['BIOGUIDE_ID', 'PAYEE', 'AMOUNT']]"
   ]
  },
  {
   "cell_type": "code",
   "execution_count": 24,
   "metadata": {},
   "outputs": [],
   "source": [
    "#Removing dupilcates in PAYEE names\n",
    "def name(mystr):   \n",
    "    result = ''\n",
    "    if type(mystr) != float:\n",
    "        for letter in mystr: \n",
    "            if letter == ',' or letter == ' ' or letter == '.':\n",
    "                continue\n",
    "            else:\n",
    "                result = result + letter\n",
    "    return result\n",
    "\n",
    "cols['PAYEE'] = cols['PAYEE'].apply(name)"
   ]
  },
  {
   "cell_type": "code",
   "execution_count": 25,
   "metadata": {},
   "outputs": [],
   "source": [
    "representatives = cols['BIOGUIDE_ID'].unique()"
   ]
  },
  {
   "cell_type": "code",
   "execution_count": 26,
   "metadata": {},
   "outputs": [],
   "source": [
    "#Aggregating data of all staff members corresponding to each representative\n",
    "id_payee_groupby = cols.groupby(['BIOGUIDE_ID', 'PAYEE']).sum()"
   ]
  },
  {
   "cell_type": "code",
   "execution_count": 27,
   "metadata": {},
   "outputs": [],
   "source": [
    "#Computing average staff salary for each representative\n",
    "avg_staff_salaries = []\n",
    "for person in representatives:\n",
    "    if type(person) != float:\n",
    "        current_data = id_payee_groupby.xs(person, level = 0)\n",
    "        staff_average = current_data['AMOUNT'].sum()/len(current_data)\n",
    "        avg_staff_salaries.append(staff_average)\n",
    "\n",
    "highest_average_staff_salary = max(avg_staff_salaries)"
   ]
  },
  {
   "cell_type": "code",
   "execution_count": 28,
   "metadata": {},
   "outputs": [
    {
     "data": {
      "text/plain": [
       "65064.53812500001"
      ]
     },
     "execution_count": 28,
     "metadata": {},
     "output_type": "execute_result"
    }
   ],
   "source": [
    "highest_average_staff_salary"
   ]
  },
  {
   "cell_type": "code",
   "execution_count": null,
   "metadata": {},
   "outputs": [],
   "source": [
    "#Distribution of expenditures of the top 20 spenders in 2016 "
   ]
  },
  {
   "cell_type": "code",
   "execution_count": 29,
   "metadata": {},
   "outputs": [],
   "source": [
    "start_time = datetime.strptime('01/01/16', '%m/%d/%y').date()\n",
    "end_time = datetime.strptime('12/31/16', '%m/%d/%y').date()\n",
    "expenditures_2016 = df[(df['START DATE'] >= start_time) & (df['START DATE'] <= end_time)]"
   ]
  },
  {
   "cell_type": "code",
   "execution_count": 30,
   "metadata": {},
   "outputs": [],
   "source": [
    "cols = expenditures_2016[['BIOGUIDE_ID', 'AMOUNT']]\n",
    "top_20_spenders = cols.groupby('BIOGUIDE_ID').sum().nlargest(20, 'AMOUNT')\n",
    "top_20_spenders.reset_index(inplace = True)\n",
    "\n",
    "#Using ProPublica API, I found political parties of top 20 spenders and added that information to top_20_spenders table\n",
    "\n",
    "top_20_spenders['Party'] = ['R', 'D', 'R', 'D', 'R', 'R', 'R', 'D', 'D', 'D', 'R', 'D', 'R', 'R', 'D', 'D', 'R', 'R', 'D', 'D']\n",
    "\n",
    "democratic_spending = top_20_spenders[top_20_spenders['Party'] == 'D']\n",
    "total_democratic_spending = democratic_spending['AMOUNT'].sum()\n",
    "\n",
    "#fraction of expenditures of top 20 spenders in 2016 coming from democratic party\n",
    "fraction = total_democratic_spending/top_20_spenders['AMOUNT'].sum()"
   ]
  },
  {
   "cell_type": "code",
   "execution_count": 31,
   "metadata": {},
   "outputs": [
    {
     "data": {
      "text/plain": [
       "0.48359341150926977"
      ]
     },
     "execution_count": 31,
     "metadata": {},
     "output_type": "execute_result"
    }
   ],
   "source": [
    "fraction"
   ]
  }
 ],
 "metadata": {
  "kernelspec": {
   "display_name": "Python 3",
   "language": "python",
   "name": "python3"
  },
  "language_info": {
   "codemirror_mode": {
    "name": "ipython",
    "version": 3
   },
   "file_extension": ".py",
   "mimetype": "text/x-python",
   "name": "python",
   "nbconvert_exporter": "python",
   "pygments_lexer": "ipython3",
   "version": "3.6.5"
  }
 },
 "nbformat": 4,
 "nbformat_minor": 2
}
